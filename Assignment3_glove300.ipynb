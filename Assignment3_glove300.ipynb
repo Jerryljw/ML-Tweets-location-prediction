{
 "cells": [
  {
   "cell_type": "code",
   "execution_count": 1,
   "metadata": {},
   "outputs": [
    {
     "data": {
      "text/html": [
       "<div>\n",
       "<style scoped>\n",
       "    .dataframe tbody tr th:only-of-type {\n",
       "        vertical-align: middle;\n",
       "    }\n",
       "\n",
       "    .dataframe tbody tr th {\n",
       "        vertical-align: top;\n",
       "    }\n",
       "\n",
       "    .dataframe thead th {\n",
       "        text-align: right;\n",
       "    }\n",
       "</style>\n",
       "<table border=\"1\" class=\"dataframe\">\n",
       "  <thead>\n",
       "    <tr style=\"text-align: right;\">\n",
       "      <th></th>\n",
       "      <th>region</th>\n",
       "      <th>user</th>\n",
       "      <th>tweet</th>\n",
       "    </tr>\n",
       "  </thead>\n",
       "  <tbody>\n",
       "    <tr>\n",
       "      <td>0</td>\n",
       "      <td>NORTHEAST</td>\n",
       "      <td>USER_6197f95d</td>\n",
       "      <td>0.16529499739408493 0.15692149847745895 0.1295...</td>\n",
       "    </tr>\n",
       "    <tr>\n",
       "      <td>1</td>\n",
       "      <td>NORTHEAST</td>\n",
       "      <td>USER_6197f95d</td>\n",
       "      <td>0.12859000265598297 0.2504599988460541 -0.5546...</td>\n",
       "    </tr>\n",
       "    <tr>\n",
       "      <td>2</td>\n",
       "      <td>NORTHEAST</td>\n",
       "      <td>USER_6197f95d</td>\n",
       "      <td>-0.20041219741106034 0.3086455903947353 -0.041...</td>\n",
       "    </tr>\n",
       "    <tr>\n",
       "      <td>3</td>\n",
       "      <td>NORTHEAST</td>\n",
       "      <td>USER_6197f95d</td>\n",
       "      <td>-0.14732199907302856 0.3644040012732148 0.1265...</td>\n",
       "    </tr>\n",
       "    <tr>\n",
       "      <td>4</td>\n",
       "      <td>NORTHEAST</td>\n",
       "      <td>USER_6197f95d</td>\n",
       "      <td>0.07860666265090306 -0.19449666266640028 -0.25...</td>\n",
       "    </tr>\n",
       "  </tbody>\n",
       "</table>\n",
       "</div>"
      ],
      "text/plain": [
       "      region           user                                              tweet\n",
       "0  NORTHEAST  USER_6197f95d  0.16529499739408493 0.15692149847745895 0.1295...\n",
       "1  NORTHEAST  USER_6197f95d  0.12859000265598297 0.2504599988460541 -0.5546...\n",
       "2  NORTHEAST  USER_6197f95d  -0.20041219741106034 0.3086455903947353 -0.041...\n",
       "3  NORTHEAST  USER_6197f95d  -0.14732199907302856 0.3644040012732148 0.1265...\n",
       "4  NORTHEAST  USER_6197f95d  0.07860666265090306 -0.19449666266640028 -0.25..."
      ]
     },
     "execution_count": 1,
     "metadata": {},
     "output_type": "execute_result"
    }
   ],
   "source": [
    "# glove300\n",
    "import numpy as np\n",
    "import pandas as pd\n",
    "\n",
    "import os\n",
    "\n",
    "# 1. load dataset\n",
    "# data \n",
    "\n",
    "data_train_glove300=pd.read_csv('data/train_glove300.csv')\n",
    "\n",
    "data_test_glove300=pd.read_csv('data/test_glove300.csv')\n",
    "\n",
    "data_validation_glove300=pd.read_csv('data/dev_glove300.csv')\n",
    "\n",
    "\n",
    "data_train_glove300.head()"
   ]
  },
  {
   "cell_type": "code",
   "execution_count": 2,
   "metadata": {},
   "outputs": [
    {
     "data": {
      "text/plain": [
       "0    0.16529499739408493 0.15692149847745895 0.1295...\n",
       "1    0.12859000265598297 0.2504599988460541 -0.5546...\n",
       "2    -0.20041219741106034 0.3086455903947353 -0.041...\n",
       "3    -0.14732199907302856 0.3644040012732148 0.1265...\n",
       "4    0.07860666265090306 -0.19449666266640028 -0.25...\n",
       "Name: tweet, dtype: object"
      ]
     },
     "execution_count": 2,
     "metadata": {},
     "output_type": "execute_result"
    }
   ],
   "source": [
    "train_x, train_y = data_train_glove300['tweet'].copy(),data_train_glove300['region'].copy()#data_train_glove300.iloc[:, [1,2]].copy(),data_train_glove300['region'].copy()\n",
    "test_x = data_test_glove300['tweet'].copy()\n",
    "validation_x,validation_y = data_validation_glove300['tweet'].copy(),data_validation_glove300['region'].copy()\n",
    "\n",
    "train_x.head()"
   ]
  },
  {
   "cell_type": "code",
   "execution_count": 3,
   "metadata": {},
   "outputs": [],
   "source": [
    "tweet_list = []\n",
    "for i in range(len(train_x[0].split(' '))):\n",
    "    temp = 'tweet'+str(i)\n",
    "    tweet_list.append(temp)\n",
    "train_x_300 = pd.DataFrame()\n",
    "train_x_300[tweet_list] = train_x.str.split(pat=\" \", expand=True).astype('float64')\n",
    "#train_x_300.drop('tweet', axis=1,inplace = True)\n",
    "\n",
    "validation_x_300 = pd.DataFrame()\n",
    "validation_x_300[tweet_list] = validation_x.str.split(pat=\" \", expand=True).astype('float64')\n",
    "#validation_x_300.drop('tweet', axis=1,inplace = True)\n",
    "\n",
    "\n",
    "test_x_300 = pd.DataFrame()\n",
    "test_x_300[tweet_list] = test_x.str.split(pat=\" \", expand=True).astype('float64')\n",
    "#test_x_300.drop('tweet', axis=1,inplace = True)"
   ]
  },
  {
   "cell_type": "code",
   "execution_count": 4,
   "metadata": {},
   "outputs": [],
   "source": [
    "from sklearn.preprocessing import LabelEncoder\n",
    "le=LabelEncoder()\n",
    "train_y=le.fit_transform(train_y)\n",
    "validation_y=le.transform(validation_y)"
   ]
  },
  {
   "cell_type": "code",
   "execution_count": 5,
   "metadata": {},
   "outputs": [
    {
     "data": {
      "text/html": [
       "<div>\n",
       "<style scoped>\n",
       "    .dataframe tbody tr th:only-of-type {\n",
       "        vertical-align: middle;\n",
       "    }\n",
       "\n",
       "    .dataframe tbody tr th {\n",
       "        vertical-align: top;\n",
       "    }\n",
       "\n",
       "    .dataframe thead th {\n",
       "        text-align: right;\n",
       "    }\n",
       "</style>\n",
       "<table border=\"1\" class=\"dataframe\">\n",
       "  <thead>\n",
       "    <tr style=\"text-align: right;\">\n",
       "      <th></th>\n",
       "      <th>tweet0</th>\n",
       "      <th>tweet1</th>\n",
       "      <th>tweet2</th>\n",
       "      <th>tweet3</th>\n",
       "      <th>tweet4</th>\n",
       "      <th>tweet5</th>\n",
       "      <th>tweet6</th>\n",
       "      <th>tweet7</th>\n",
       "      <th>tweet8</th>\n",
       "      <th>tweet9</th>\n",
       "      <th>...</th>\n",
       "      <th>tweet290</th>\n",
       "      <th>tweet291</th>\n",
       "      <th>tweet292</th>\n",
       "      <th>tweet293</th>\n",
       "      <th>tweet294</th>\n",
       "      <th>tweet295</th>\n",
       "      <th>tweet296</th>\n",
       "      <th>tweet297</th>\n",
       "      <th>tweet298</th>\n",
       "      <th>tweet299</th>\n",
       "    </tr>\n",
       "  </thead>\n",
       "  <tbody>\n",
       "    <tr>\n",
       "      <td>0</td>\n",
       "      <td>0.165295</td>\n",
       "      <td>0.156921</td>\n",
       "      <td>0.129570</td>\n",
       "      <td>0.126863</td>\n",
       "      <td>0.109545</td>\n",
       "      <td>0.025270</td>\n",
       "      <td>-0.155725</td>\n",
       "      <td>0.154055</td>\n",
       "      <td>-0.090687</td>\n",
       "      <td>-0.608515</td>\n",
       "      <td>...</td>\n",
       "      <td>0.172670</td>\n",
       "      <td>0.126226</td>\n",
       "      <td>-0.098614</td>\n",
       "      <td>-0.280390</td>\n",
       "      <td>0.025885</td>\n",
       "      <td>-0.072000</td>\n",
       "      <td>0.070441</td>\n",
       "      <td>-0.102425</td>\n",
       "      <td>-0.083425</td>\n",
       "      <td>-0.041377</td>\n",
       "    </tr>\n",
       "    <tr>\n",
       "      <td>1</td>\n",
       "      <td>0.128590</td>\n",
       "      <td>0.250460</td>\n",
       "      <td>-0.554680</td>\n",
       "      <td>0.100830</td>\n",
       "      <td>-0.122860</td>\n",
       "      <td>0.086751</td>\n",
       "      <td>-0.089401</td>\n",
       "      <td>0.186030</td>\n",
       "      <td>0.006967</td>\n",
       "      <td>-1.752000</td>\n",
       "      <td>...</td>\n",
       "      <td>-0.049889</td>\n",
       "      <td>-0.172140</td>\n",
       "      <td>0.295880</td>\n",
       "      <td>-0.082773</td>\n",
       "      <td>0.267030</td>\n",
       "      <td>-0.350290</td>\n",
       "      <td>-0.088684</td>\n",
       "      <td>-0.329630</td>\n",
       "      <td>0.258420</td>\n",
       "      <td>0.301360</td>\n",
       "    </tr>\n",
       "    <tr>\n",
       "      <td>2</td>\n",
       "      <td>-0.200412</td>\n",
       "      <td>0.308646</td>\n",
       "      <td>-0.041178</td>\n",
       "      <td>0.044302</td>\n",
       "      <td>0.010667</td>\n",
       "      <td>0.147315</td>\n",
       "      <td>-0.228232</td>\n",
       "      <td>0.062656</td>\n",
       "      <td>0.193391</td>\n",
       "      <td>-0.841962</td>\n",
       "      <td>...</td>\n",
       "      <td>-0.145189</td>\n",
       "      <td>-0.107838</td>\n",
       "      <td>-0.073095</td>\n",
       "      <td>0.014139</td>\n",
       "      <td>0.092654</td>\n",
       "      <td>0.020315</td>\n",
       "      <td>0.066396</td>\n",
       "      <td>-0.224434</td>\n",
       "      <td>-0.095180</td>\n",
       "      <td>0.128492</td>\n",
       "    </tr>\n",
       "    <tr>\n",
       "      <td>3</td>\n",
       "      <td>-0.147322</td>\n",
       "      <td>0.364404</td>\n",
       "      <td>0.126528</td>\n",
       "      <td>-0.015661</td>\n",
       "      <td>0.041453</td>\n",
       "      <td>0.039504</td>\n",
       "      <td>-0.158922</td>\n",
       "      <td>-0.054634</td>\n",
       "      <td>0.137292</td>\n",
       "      <td>-0.685044</td>\n",
       "      <td>...</td>\n",
       "      <td>0.128150</td>\n",
       "      <td>0.019823</td>\n",
       "      <td>-0.132730</td>\n",
       "      <td>0.013922</td>\n",
       "      <td>0.037354</td>\n",
       "      <td>-0.402442</td>\n",
       "      <td>0.087009</td>\n",
       "      <td>-0.081570</td>\n",
       "      <td>-0.120145</td>\n",
       "      <td>-0.134394</td>\n",
       "    </tr>\n",
       "    <tr>\n",
       "      <td>4</td>\n",
       "      <td>0.078607</td>\n",
       "      <td>-0.194497</td>\n",
       "      <td>-0.253428</td>\n",
       "      <td>-0.011151</td>\n",
       "      <td>-0.282250</td>\n",
       "      <td>0.121172</td>\n",
       "      <td>-0.100056</td>\n",
       "      <td>0.102113</td>\n",
       "      <td>0.007096</td>\n",
       "      <td>-0.395342</td>\n",
       "      <td>...</td>\n",
       "      <td>0.073213</td>\n",
       "      <td>0.030286</td>\n",
       "      <td>-0.169902</td>\n",
       "      <td>-0.178539</td>\n",
       "      <td>0.193187</td>\n",
       "      <td>-0.049336</td>\n",
       "      <td>0.098703</td>\n",
       "      <td>0.090435</td>\n",
       "      <td>0.150210</td>\n",
       "      <td>0.232513</td>\n",
       "    </tr>\n",
       "  </tbody>\n",
       "</table>\n",
       "<p>5 rows × 300 columns</p>\n",
       "</div>"
      ],
      "text/plain": [
       "     tweet0    tweet1    tweet2    tweet3    tweet4    tweet5    tweet6  \\\n",
       "0  0.165295  0.156921  0.129570  0.126863  0.109545  0.025270 -0.155725   \n",
       "1  0.128590  0.250460 -0.554680  0.100830 -0.122860  0.086751 -0.089401   \n",
       "2 -0.200412  0.308646 -0.041178  0.044302  0.010667  0.147315 -0.228232   \n",
       "3 -0.147322  0.364404  0.126528 -0.015661  0.041453  0.039504 -0.158922   \n",
       "4  0.078607 -0.194497 -0.253428 -0.011151 -0.282250  0.121172 -0.100056   \n",
       "\n",
       "     tweet7    tweet8    tweet9  ...  tweet290  tweet291  tweet292  tweet293  \\\n",
       "0  0.154055 -0.090687 -0.608515  ...  0.172670  0.126226 -0.098614 -0.280390   \n",
       "1  0.186030  0.006967 -1.752000  ... -0.049889 -0.172140  0.295880 -0.082773   \n",
       "2  0.062656  0.193391 -0.841962  ... -0.145189 -0.107838 -0.073095  0.014139   \n",
       "3 -0.054634  0.137292 -0.685044  ...  0.128150  0.019823 -0.132730  0.013922   \n",
       "4  0.102113  0.007096 -0.395342  ...  0.073213  0.030286 -0.169902 -0.178539   \n",
       "\n",
       "   tweet294  tweet295  tweet296  tweet297  tweet298  tweet299  \n",
       "0  0.025885 -0.072000  0.070441 -0.102425 -0.083425 -0.041377  \n",
       "1  0.267030 -0.350290 -0.088684 -0.329630  0.258420  0.301360  \n",
       "2  0.092654  0.020315  0.066396 -0.224434 -0.095180  0.128492  \n",
       "3  0.037354 -0.402442  0.087009 -0.081570 -0.120145 -0.134394  \n",
       "4  0.193187 -0.049336  0.098703  0.090435  0.150210  0.232513  \n",
       "\n",
       "[5 rows x 300 columns]"
      ]
     },
     "execution_count": 5,
     "metadata": {},
     "output_type": "execute_result"
    }
   ],
   "source": [
    "train_x_300.head()"
   ]
  },
  {
   "cell_type": "code",
   "execution_count": 6,
   "metadata": {},
   "outputs": [
    {
     "name": "stdout",
     "output_type": "stream",
     "text": [
      "<class 'pandas.core.frame.DataFrame'>\n",
      "RangeIndex: 133795 entries, 0 to 133794\n",
      "Columns: 300 entries, tweet0 to tweet299\n",
      "dtypes: float64(300)\n",
      "memory usage: 306.2 MB\n"
     ]
    }
   ],
   "source": [
    "train_x_300.info()"
   ]
  },
  {
   "cell_type": "code",
   "execution_count": 7,
   "metadata": {},
   "outputs": [],
   "source": [
    "from sklearn.svm import LinearSVC\n",
    "from sklearn.feature_selection import SelectFromModel\n",
    "# feature selection\n",
    "\n",
    "lsvc = LinearSVC(C=0.01, penalty=\"l1\", dual=False).fit(train_x_300, train_y)\n",
    "selectionmodel = SelectFromModel(lsvc, prefit=True,threshold=-np.inf, max_features = 100)\n",
    "\n",
    "train_x_new = selectionmodel.transform(train_x_300)\n",
    "validation_x_new = selectionmodel.transform(validation_x_300)\n",
    "test_x_new = selectionmodel.transform(test_x_300)\n",
    "\n"
   ]
  },
  {
   "cell_type": "code",
   "execution_count": 8,
   "metadata": {},
   "outputs": [
    {
     "data": {
      "text/plain": [
       "(133795, 100)"
      ]
     },
     "execution_count": 8,
     "metadata": {},
     "output_type": "execute_result"
    }
   ],
   "source": [
    "train_x_new.shape"
   ]
  },
  {
   "cell_type": "code",
   "execution_count": 9,
   "metadata": {},
   "outputs": [],
   "source": [
    "train_x_new_df =  pd.DataFrame(train_x_new)\n",
    "validation_x_new_df = pd.DataFrame(validation_x_new)\n",
    "test_x_new_df = pd.DataFrame(test_x_new)"
   ]
  },
  {
   "cell_type": "code",
   "execution_count": 92,
   "metadata": {},
   "outputs": [
    {
     "name": "stderr",
     "output_type": "stream",
     "text": [
      "C:\\Users\\49323\\AppData\\Local\\Continuum\\anaconda3\\lib\\site-packages\\sklearn\\linear_model\\logistic.py:432: FutureWarning: Default solver will be changed to 'lbfgs' in 0.22. Specify a solver to silence this warning.\n",
      "  FutureWarning)\n",
      "C:\\Users\\49323\\AppData\\Local\\Continuum\\anaconda3\\lib\\site-packages\\sklearn\\linear_model\\logistic.py:469: FutureWarning: Default multi_class will be changed to 'auto' in 0.22. Specify the multi_class option to silence this warning.\n",
      "  \"this warning.\", FutureWarning)\n"
     ]
    },
    {
     "name": "stdout",
     "output_type": "stream",
     "text": [
      "0.4335511982570806\n",
      "0.24926053850309787\n"
     ]
    },
    {
     "name": "stderr",
     "output_type": "stream",
     "text": [
      "C:\\Users\\49323\\AppData\\Local\\Continuum\\anaconda3\\lib\\site-packages\\sklearn\\metrics\\classification.py:1437: UndefinedMetricWarning: F-score is ill-defined and being set to 0.0 in labels with no predicted samples.\n",
      "  'precision', 'predicted', average, warn_for)\n"
     ]
    }
   ],
   "source": [
    "from sklearn.linear_model import LogisticRegression\n",
    "from sklearn.metrics import accuracy_score\n",
    "from sklearn.metrics import f1_score\n",
    "\n",
    "LR_train = LogisticRegression()\n",
    "LR_train.fit(train_x_new_df,train_y)\n",
    "\n",
    "LR_predict_validation = LR_train.predict(validation_x_new_df)\n",
    "print(accuracy_score(validation_y,LR_predict_validation))\n",
    "print(f1_score(validation_y,LR_predict_validation,average='macro'))"
   ]
  },
  {
   "cell_type": "code",
   "execution_count": 93,
   "metadata": {},
   "outputs": [
    {
     "name": "stdout",
     "output_type": "stream",
     "text": [
      "0.44034858387799564\n",
      "0.25244227003650876\n"
     ]
    },
    {
     "name": "stderr",
     "output_type": "stream",
     "text": [
      "C:\\Users\\49323\\AppData\\Local\\Continuum\\anaconda3\\lib\\site-packages\\sklearn\\metrics\\classification.py:1437: UndefinedMetricWarning: F-score is ill-defined and being set to 0.0 in labels with no predicted samples.\n",
      "  'precision', 'predicted', average, warn_for)\n"
     ]
    }
   ],
   "source": [
    "from sklearn.neural_network import MLPClassifier\n",
    "\n",
    "mlp_train = MLPClassifier(solver='lbfgs', alpha=1e-5, hidden_layer_sizes=(5, 2), random_state=1)\n",
    "\n",
    "mlp_train.fit(train_x_new_df,train_y)\n",
    "\n",
    "mlp_predict_validation = mlp_train.predict(validation_x_new_df)\n",
    "print(accuracy_score(validation_y,mlp_predict_validation))\n",
    "print(f1_score(validation_y,mlp_predict_validation,average='macro'))"
   ]
  },
  {
   "cell_type": "code",
   "execution_count": 97,
   "metadata": {},
   "outputs": [
    {
     "data": {
      "text/plain": [
       "0    0.16529499739408493 0.15692149847745895 0.1295...\n",
       "1    0.12859000265598297 0.2504599988460541 -0.5546...\n",
       "2    -0.20041219741106034 0.3086455903947353 -0.041...\n",
       "3    -0.14732199907302856 0.3644040012732148 0.1265...\n",
       "4    0.07860666265090306 -0.19449666266640028 -0.25...\n",
       "Name: tweet, dtype: object"
      ]
     },
     "execution_count": 97,
     "metadata": {},
     "output_type": "execute_result"
    }
   ],
   "source": [
    "train_x['tweet'] = train_x.str.split(pat=\" \", expand=True).astype('float64')\n",
    "train_x.head()\n",
    "#test_x = data_test_glove300['tweet'].copy()\n",
    "#validation_x,validation_y = data_validation_glove300['tweet'].copy(),data_validation_glove300['region'].copy()"
   ]
  },
  {
   "cell_type": "code",
   "execution_count": 16,
   "metadata": {},
   "outputs": [],
   "source": [
    "from sklearn.neighbors import KNeighborsClassifier\n",
    "knn_train = KNeighborsClassifier(n_neighbors = 5)\n",
    "knn_train.fit(train_x_300,train_y)\n",
    "knn_predict_validation = knn_train.predict(validation_x_300)\n",
    "\n"
   ]
  },
  {
   "cell_type": "code",
   "execution_count": null,
   "metadata": {},
   "outputs": [],
   "source": [
    "from sklearn.metrics import accuracy_score\n",
    "from sklearn.metrics import f1_score\n",
    "print(accuracy_score(validation_y,knn_predict_validation))\n",
    "print(f1_score(validation_y,knn_predict_validation,average='macro'))"
   ]
  },
  {
   "cell_type": "code",
   "execution_count": null,
   "metadata": {},
   "outputs": [],
   "source": []
  },
  {
   "cell_type": "code",
   "execution_count": null,
   "metadata": {},
   "outputs": [],
   "source": []
  }
 ],
 "metadata": {
  "kernelspec": {
   "display_name": "Python 3",
   "language": "python",
   "name": "python3"
  },
  "language_info": {
   "codemirror_mode": {
    "name": "ipython",
    "version": 3
   },
   "file_extension": ".py",
   "mimetype": "text/x-python",
   "name": "python",
   "nbconvert_exporter": "python",
   "pygments_lexer": "ipython3",
   "version": "3.7.4"
  }
 },
 "nbformat": 4,
 "nbformat_minor": 2
}
